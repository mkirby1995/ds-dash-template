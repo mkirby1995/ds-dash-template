{
 "cells": [
  {
   "cell_type": "code",
   "execution_count": 1,
   "metadata": {
    "colab": {
     "base_uri": "https://localhost:8080/",
     "height": 613
    },
    "colab_type": "code",
    "id": "Xt_ymquC4-fR",
    "outputId": "ce451aae-35e5-4376-b149-10f8b9116092"
   },
   "outputs": [
    {
     "data": {
      "text/plain": [
       "\"\\n#### Create features and target and train test split\\nX = mushrooms.drop(columns='class')\\nX = ce.OneHotEncoder(use_cat_names=True).fit_transform(X)\\ny = mushrooms['class'].replace({'p':0, 'e':1})\\n\\nX_train, X_test, y_train, y_test = train_test_split(X, y, random_state=42,\\n                                                    test_size=.2, stratify=y)\\n\\nparam_distributions = {\\n    'max_depth':[1, 2, 3, 4, 5, 6, 7, 8, 9, 10, 11],\\n    'n_estimators': [10, 25, 50, 100]\\n}\\n\\nsearch = RandomizedSearchCV(estimator = RandomForestClassifier(),\\n                            param_distributions = param_distributions,\\n                            n_iter=100,\\n                            scoring='precision',\\n                            n_jobs=-1,\\n                            cv=10,\\n                            verbose=10,\\n                            return_train_score=True)\\n\\nsearch.fit(X_train, y_train)\\n\\nbest_model = search.best_estimator_\\n\""
      ]
     },
     "execution_count": 1,
     "metadata": {},
     "output_type": "execute_result"
    }
   ],
   "source": [
    "import pandas as pd\n",
    "import category_encoders as ce\n",
    "import numpy as np\n",
    "from sklearn.model_selection import train_test_split, RandomizedSearchCV\n",
    "from sklearn.ensemble import RandomForestClassifier\n",
    "\n",
    "\n",
    "#### Import Data\n",
    "column_names = ['class',\n",
    "                'cap-shape',\n",
    "                'cap-surface',\n",
    "                'cap-color',\n",
    "                'bruises?',\n",
    "                'odor',\n",
    "                'gill-attachment',\n",
    "                'gill-spacing',\n",
    "                'gill-size',\n",
    "                'gill-color',\n",
    "                'stalk-shape',\n",
    "                'stalk-root',\n",
    "                'stalk-surface-above-ring',\n",
    "                'stalk-surface-below-ring',\n",
    "                'stalk-color-above-ring',\n",
    "                'stalk-color-below-ring',\n",
    "                'veil-type',\n",
    "                'veil-color',\n",
    "                'ring-number',\n",
    "                'ring-type',\n",
    "                'spore-print-color',\n",
    "                'population',\n",
    "                'habitat']\n",
    "\n",
    "filepath = 'agaricus-lepiota.data'\n",
    "mushrooms = pd.read_csv(filepath, header=None, names=column_names)\n",
    "\n",
    "#### Cleaning\n",
    "mushrooms = mushrooms.replace({'?':np.NaN})\n",
    "mushrooms['stalk-root'] = mushrooms['stalk-root'].replace(np.NaN,'m')\n",
    "\"\"\"\n",
    "#### Create features and target and train test split\n",
    "X = mushrooms.drop(columns='class')\n",
    "X = ce.OneHotEncoder(use_cat_names=True).fit_transform(X)\n",
    "y = mushrooms['class'].replace({'p':0, 'e':1})\n",
    "\n",
    "X_train, X_test, y_train, y_test = train_test_split(X, y, random_state=42,\n",
    "                                                    test_size=.2, stratify=y)\n",
    "\n",
    "param_distributions = {\n",
    "    'max_depth':[1, 2, 3, 4, 5, 6, 7, 8, 9, 10, 11],\n",
    "    'n_estimators': [10, 25, 50, 100]\n",
    "}\n",
    "\n",
    "search = RandomizedSearchCV(estimator = RandomForestClassifier(),\n",
    "                            param_distributions = param_distributions,\n",
    "                            n_iter=100,\n",
    "                            scoring='precision',\n",
    "                            n_jobs=-1,\n",
    "                            cv=10,\n",
    "                            verbose=10,\n",
    "                            return_train_score=True)\n",
    "\n",
    "search.fit(X_train, y_train)\n",
    "\n",
    "best_model = search.best_estimator_\n",
    "\"\"\""
   ]
  },
  {
   "cell_type": "code",
   "execution_count": 2,
   "metadata": {},
   "outputs": [],
   "source": [
    "import pickle\n",
    "\n",
    "pickleFile = open(\"clean_mushroom_data.pkl\", 'wb')\n",
    "pickle.dump(mushrooms, pickleFile)\n",
    "pickleFile.close()"
   ]
  },
  {
   "cell_type": "code",
   "execution_count": 2,
   "metadata": {
    "colab": {
     "base_uri": "https://localhost:8080/",
     "height": 161
    },
    "colab_type": "code",
    "id": "FJS0mnhg5JjX",
    "outputId": "a062f34a-4796-4d26-e08d-23e02b86866b"
   },
   "outputs": [
    {
     "data": {
      "text/plain": [
       "RandomForestClassifier(bootstrap=True, class_weight=None, criterion='gini',\n",
       "                       max_depth=7, max_features='auto', max_leaf_nodes=None,\n",
       "                       min_impurity_decrease=0.0, min_impurity_split=None,\n",
       "                       min_samples_leaf=1, min_samples_split=2,\n",
       "                       min_weight_fraction_leaf=0.0, n_estimators=50,\n",
       "                       n_jobs=None, oob_score=False, random_state=None,\n",
       "                       verbose=0, warm_start=False)"
      ]
     },
     "execution_count": 2,
     "metadata": {},
     "output_type": "execute_result"
    }
   ],
   "source": [
    "best_model"
   ]
  },
  {
   "cell_type": "code",
   "execution_count": 3,
   "metadata": {
    "colab": {},
    "colab_type": "code",
    "id": "26iqOZfOROAl"
   },
   "outputs": [],
   "source": [
    "import pickle\n",
    "\n",
    "pickleFile = open(\"mushroom_rfmodel.pkl\", 'wb')\n",
    "pickle.dump(best_model, pickleFile)\n",
    "pickleFile.close()"
   ]
  },
  {
   "cell_type": "code",
   "execution_count": null,
   "metadata": {
    "colab": {},
    "colab_type": "code",
    "id": "HGYyQj0d6qVI"
   },
   "outputs": [],
   "source": []
  }
 ],
 "metadata": {
  "colab": {
   "name": "Mushroom trevis.ipynb",
   "provenance": []
  },
  "kernelspec": {
   "display_name": "dash",
   "language": "python",
   "name": "dash"
  },
  "language_info": {
   "codemirror_mode": {
    "name": "ipython",
    "version": 3
   },
   "file_extension": ".py",
   "mimetype": "text/x-python",
   "name": "python",
   "nbconvert_exporter": "python",
   "pygments_lexer": "ipython3",
   "version": "3.6.10"
  }
 },
 "nbformat": 4,
 "nbformat_minor": 4
}
